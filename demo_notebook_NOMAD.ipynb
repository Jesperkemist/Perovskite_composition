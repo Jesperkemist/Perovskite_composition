{
 "cells": [
  {
   "cell_type": "markdown",
   "metadata": {},
   "source": [
    "## Accessing data stored in NOMAD\n",
    "This notebook demonstrates how to access perovskite composition data stored in the NOMAD database "
   ]
  },
  {
   "cell_type": "code",
   "execution_count": null,
   "metadata": {},
   "outputs": [],
   "source": [
    "import json\n",
    "import pandas as pd\n",
    "import requests"
   ]
  },
  {
   "cell_type": "markdown",
   "metadata": {},
   "source": [
    "### Accessing data from your own upload\n",
    "In a NOMAD upload, you cna go to the overview tab. There you will find and API reference that will provide a URL to that upload  "
   ]
  },
  {
   "cell_type": "code",
   "execution_count": null,
   "metadata": {},
   "outputs": [],
   "source": [
    "# This is an URL for a perovskite composition from an example upload \n",
    "url = \"https://nomad-lab.eu/prod/v1/oasis/api/v1/entries/o9lqafn9draluRPTG18jRDXTLvrX\""
   ]
  },
  {
   "cell_type": "markdown",
   "metadata": {},
   "source": [
    "The data can be obtained by an get request. <br>\n",
    "The data object contain more information than the perovskite composition. <br>\n",
    "The additional information are related to additional functionalities in NOMAD <br> \n",
    "To get the data for the perovskite composition, we need to go one step deeper"
   ]
  },
  {
   "cell_type": "code",
   "execution_count": 28,
   "metadata": {},
   "outputs": [
    {
     "data": {
      "text/plain": [
       "dict_keys(['short_form', 'long_form', 'name', 'datetime', 'composition_estimate', 'sample_type', 'dimensionality', 'band_gap', 'ions_a_site', 'ions_b_site', 'ions_x_site', 'elemental_composition', 'components'])"
      ]
     },
     "execution_count": 28,
     "metadata": {},
     "output_type": "execute_result"
    }
   ],
   "source": [
    "# To get the data  \n",
    "response = requests.get(url)\n",
    "data = response.json()\n",
    "# To get the composition data\n",
    "composition = data[\"data\"][\"data\"]\n",
    "# This results in a dictionary with the following keys\n",
    "composition.keys()"
   ]
  },
  {
   "cell_type": "code",
   "execution_count": 29,
   "metadata": {},
   "outputs": [
    {
     "data": {
      "text/plain": [
       "{'short_form': 'MAPbBrI',\n",
       " 'long_form': 'MAPbBr0.5I2.5',\n",
       " 'name': 'TJJ-44',\n",
       " 'datetime': '2024-12-10T15:28:50.585087+00:00',\n",
       " 'composition_estimate': 'Estimated from precursor solutions',\n",
       " 'sample_type': 'Polycrystalline film',\n",
       " 'dimensionality': '3D',\n",
       " 'band_gap': 1.66,\n",
       " 'ions_a_site': [{'name': 'MA perovskite ion'}],\n",
       " 'ions_b_site': [{'name': 'Pb perovskite ion'}],\n",
       " 'ions_x_site': [{'name': 'Br perovskite ion'}, {'name': 'I perovskite ion'}],\n",
       " 'elemental_composition': [{'element': 'Pb',\n",
       "   'atomic_fraction': 0.08333333333333333,\n",
       "   'mass_fraction': 0.3473722841663211},\n",
       "  {'element': 'C',\n",
       "   'atomic_fraction': 0.08333333333333333,\n",
       "   'mass_fraction': 0.02013602458222217},\n",
       "  {'element': 'N',\n",
       "   'atomic_fraction': 0.08333333333333333,\n",
       "   'mass_fraction': 0.02348233287950005},\n",
       "  {'element': 'H',\n",
       "   'atomic_fraction': 0.5,\n",
       "   'mass_fraction': 0.010138911779032868},\n",
       "  {'element': 'I',\n",
       "   'atomic_fraction': 0.20833333333333334,\n",
       "   'mass_fraction': 0.5318906324181513},\n",
       "  {'element': 'Br',\n",
       "   'atomic_fraction': 0.041666666666666664,\n",
       "   'mass_fraction': 0.0669798141747725}],\n",
       " 'components': [{'name': 'MA perovskite ion'},\n",
       "  {'name': 'Pb perovskite ion'},\n",
       "  {'name': 'Br perovskite ion'},\n",
       "  {'name': 'I perovskite ion'}]}"
      ]
     },
     "execution_count": 29,
     "metadata": {},
     "output_type": "execute_result"
    }
   ],
   "source": [
    "# And this is the compositional data in the dictionary\n",
    "composition"
   ]
  },
  {
   "cell_type": "markdown",
   "metadata": {},
   "source": [
    "### Accessing data from a published upload based on DOI number"
   ]
  },
  {
   "cell_type": "markdown",
   "metadata": {},
   "source": [
    "Every entry in the NOMAD database is associated with a DOI number. <br>\n",
    "with access to that DOI number the data can be accessed as below"
   ]
  },
  {
   "cell_type": "code",
   "execution_count": 35,
   "metadata": {},
   "outputs": [],
   "source": [
    "# TO DO"
   ]
  },
  {
   "cell_type": "markdown",
   "metadata": {},
   "source": [
    "### Accessing all perovskite compositions in the NOMAD database"
   ]
  },
  {
   "cell_type": "code",
   "execution_count": null,
   "metadata": {},
   "outputs": [],
   "source": [
    "# TO DO\n",
    "\n",
    "# Have note figured out how to do this"
   ]
  },
  {
   "cell_type": "markdown",
   "metadata": {},
   "source": [
    "### Accessing all perovskite ions in the NOMAD database "
   ]
  },
  {
   "cell_type": "code",
   "execution_count": null,
   "metadata": {},
   "outputs": [],
   "source": [
    "# TO DO\n",
    "\n",
    "# Have note figured out how to do this"
   ]
  }
 ],
 "metadata": {
  "kernelspec": {
   "display_name": "perovskite_composition",
   "language": "python",
   "name": "python3"
  },
  "language_info": {
   "codemirror_mode": {
    "name": "ipython",
    "version": 3
   },
   "file_extension": ".py",
   "mimetype": "text/x-python",
   "name": "python",
   "nbconvert_exporter": "python",
   "pygments_lexer": "ipython3",
   "version": "3.11.7"
  }
 },
 "nbformat": 4,
 "nbformat_minor": 2
}
