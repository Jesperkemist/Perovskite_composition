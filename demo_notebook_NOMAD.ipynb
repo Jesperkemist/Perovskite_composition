{
 "cells": [
  {
   "cell_type": "markdown",
   "metadata": {},
   "source": [
    "## Accessing data stored in NOMAD\n",
    "This notebook demonstrates how to access perovskite composition data stored in the NOMAD database "
   ]
  },
  {
   "cell_type": "code",
   "execution_count": 1,
   "metadata": {},
   "outputs": [],
   "source": [
    "import json\n",
    "import pandas as pd\n",
    "import requests"
   ]
  },
  {
   "cell_type": "markdown",
   "metadata": {},
   "source": [
    "### Accessing data from your own upload\n",
    "In a NOMAD upload, you can go to the overview tab. There you will find and API reference that will provide a URL to that upload  "
   ]
  },
  {
   "cell_type": "code",
   "execution_count": 2,
   "metadata": {},
   "outputs": [],
   "source": [
    "# This is an URL for a perovskite composition from an example upload \n",
    "url = \"https://nomad-lab.eu/prod/v1/oasis/api/v1/entries/o9lqafn9draluRPTG18jRDXTLvrX\""
   ]
  },
  {
   "cell_type": "markdown",
   "metadata": {},
   "source": [
    "The data can be obtained by an get request. <br>\n",
    "The data object contain more information than the perovskite composition. <br>\n",
    "The additional information are related to additional functionalities in NOMAD <br> \n",
    "To get the data for the perovskite composition, we need to go one step deeper"
   ]
  },
  {
   "cell_type": "code",
   "execution_count": 3,
   "metadata": {},
   "outputs": [
    {
     "data": {
      "text/plain": [
       "dict_keys(['short_form', 'long_form', 'name', 'datetime', 'composition_estimate', 'sample_type', 'dimensionality', 'band_gap', 'ions_a_site', 'ions_b_site', 'ions_x_site', 'elemental_composition', 'components'])"
      ]
     },
     "execution_count": 3,
     "metadata": {},
     "output_type": "execute_result"
    }
   ],
   "source": [
    "# To get the data  \n",
    "response = requests.get(url)\n",
    "data = response.json()\n",
    "# To get the composition data\n",
    "composition = data[\"data\"][\"data\"]\n",
    "# This results in a dictionary with the following keys\n",
    "composition.keys()"
   ]
  },
  {
   "cell_type": "code",
   "execution_count": 4,
   "metadata": {},
   "outputs": [
    {
     "data": {
      "text/plain": [
       "{'short_form': 'MAPbBrI',\n",
       " 'long_form': 'MAPbBr0.5I2.5',\n",
       " 'name': 'TJJ-44',\n",
       " 'datetime': '2024-12-10T15:28:50.585087+00:00',\n",
       " 'composition_estimate': 'Estimated from precursor solutions',\n",
       " 'sample_type': 'Polycrystalline film',\n",
       " 'dimensionality': '3D',\n",
       " 'band_gap': 1.66,\n",
       " 'ions_a_site': [{'name': 'MA perovskite ion'}],\n",
       " 'ions_b_site': [{'name': 'Pb perovskite ion'}],\n",
       " 'ions_x_site': [{'name': 'Br perovskite ion'}, {'name': 'I perovskite ion'}],\n",
       " 'elemental_composition': [{'element': 'Pb',\n",
       "   'atomic_fraction': 0.08333333333333333,\n",
       "   'mass_fraction': 0.3473722841663211},\n",
       "  {'element': 'C',\n",
       "   'atomic_fraction': 0.08333333333333333,\n",
       "   'mass_fraction': 0.02013602458222217},\n",
       "  {'element': 'N',\n",
       "   'atomic_fraction': 0.08333333333333333,\n",
       "   'mass_fraction': 0.02348233287950005},\n",
       "  {'element': 'H',\n",
       "   'atomic_fraction': 0.5,\n",
       "   'mass_fraction': 0.010138911779032868},\n",
       "  {'element': 'I',\n",
       "   'atomic_fraction': 0.20833333333333334,\n",
       "   'mass_fraction': 0.5318906324181513},\n",
       "  {'element': 'Br',\n",
       "   'atomic_fraction': 0.041666666666666664,\n",
       "   'mass_fraction': 0.0669798141747725}],\n",
       " 'components': [{'name': 'MA perovskite ion'},\n",
       "  {'name': 'Pb perovskite ion'},\n",
       "  {'name': 'Br perovskite ion'},\n",
       "  {'name': 'I perovskite ion'}]}"
      ]
     },
     "execution_count": 4,
     "metadata": {},
     "output_type": "execute_result"
    }
   ],
   "source": [
    "# And this is the compositional data in the dictionary\n",
    "composition"
   ]
  },
  {
   "cell_type": "markdown",
   "metadata": {},
   "source": [
    "### Query the Hybride Perovskite Ions Database"
   ]
  },
  {
   "cell_type": "markdown",
   "metadata": {},
   "source": [
    "#### Query for an ion with abbreviation MA"
   ]
  },
  {
   "cell_type": "code",
   "execution_count": 6,
   "metadata": {},
   "outputs": [
    {
     "name": "stdout",
     "output_type": "stream",
     "text": [
      "{\n",
      "  \"m_def\": \"perovskite_solar_cell_database.composition.PerovskiteAIon\",\n",
      "  \"name\": \"MA perovskite ion\",\n",
      "  \"datetime\": \"2024-12-18T14:46:39.211148+00:00\",\n",
      "  \"lab_id\": \"perovskite_ion_MA\",\n",
      "  \"common_name\": \"Methylammonium\",\n",
      "  \"molecular_formula\": \"CH6N+\",\n",
      "  \"smiles\": \"C[NH3+]\",\n",
      "  \"iupac_name\": \"methylazanium\",\n",
      "  \"cas_number\": \"17000-00-9\",\n",
      "  \"abbreviation\": \"MA\",\n",
      "  \"source_compound_molecular_formula\": \"CH5N\",\n",
      "  \"source_compound_smiles\": \"CN\",\n",
      "  \"source_compound_iupac_name\": \"methanamine\",\n",
      "  \"source_compound_cas_number\": \"74-89-5\",\n",
      "  \"elemental_composition\": [\n",
      "    {\n",
      "      \"element\": \"C\",\n",
      "      \"atomic_fraction\": 0.125,\n",
      "      \"mass_fraction\": 0.3745730552651735\n",
      "    },\n",
      "    {\n",
      "      \"element\": \"H\",\n",
      "      \"atomic_fraction\": 0.75,\n",
      "      \"mass_fraction\": 0.1886054095051807\n",
      "    },\n",
      "    {\n",
      "      \"element\": \"N\",\n",
      "      \"atomic_fraction\": 0.125,\n",
      "      \"mass_fraction\": 0.4368215352296457\n",
      "    }\n",
      "  ],\n",
      "  \"pure_substance\": {\n",
      "    \"name\": \"Methylammonium\",\n",
      "    \"iupac_name\": \"methylazanium\",\n",
      "    \"molecular_formula\": \"CH6N\",\n",
      "    \"molecular_mass\": 32.050024196,\n",
      "    \"molar_mass\": 32.065,\n",
      "    \"monoisotopic_mass\": 32.050024196,\n",
      "    \"inchi\": \"InChI=1S/CH5N/c1-2/h2H2,1H3/p+1\",\n",
      "    \"inchi_key\": \"BAVYZALUXZFZLV-UHFFFAOYSA-O\",\n",
      "    \"smile\": \"C[NH3+]\",\n",
      "    \"canonical_smile\": \"C[NH3+]\",\n",
      "    \"cas_number\": \"17000-00-9\",\n",
      "    \"pub_chem_cid\": 644041,\n",
      "    \"pub_chem_link\": \"https://pubchem.ncbi.nlm.nih.gov/compound/644041\"\n",
      "  },\n",
      "  \"source_compound\": {\n",
      "    \"name\": \"Methylamine\",\n",
      "    \"iupac_name\": \"methanamine\",\n",
      "    \"molecular_formula\": \"CH5N\",\n",
      "    \"molecular_mass\": 31.042199164,\n",
      "    \"molar_mass\": 31.057,\n",
      "    \"monoisotopic_mass\": 31.042199164,\n",
      "    \"inchi\": \"InChI=1S/CH5N/c1-2/h2H2,1H3\",\n",
      "    \"inchi_key\": \"BAVYZALUXZFZLV-UHFFFAOYSA-N\",\n",
      "    \"smile\": \"CN\",\n",
      "    \"canonical_smile\": \"CN\",\n",
      "    \"cas_number\": \"74-89-5\",\n",
      "    \"pub_chem_cid\": 6329,\n",
      "    \"pub_chem_link\": \"https://pubchem.ncbi.nlm.nih.gov/compound/6329\"\n",
      "  }\n",
      "}\n"
     ]
    }
   ],
   "source": [
    "# Link to the resources\n",
    "base_url = 'http://nomad-lab.eu/prod/v1/api/v1'\n",
    "\n",
    "# Query for an ion\n",
    "response = requests.post(\n",
    "    f'{base_url}/entries/archive/query',\n",
    "    json={\n",
    "        'owner': 'visible',\n",
    "        'query': {\n",
    "            'data.abbreviation#perovskite_solar_cell_database.composition.PerovskiteAIon:any': [\n",
    "                'MA'\n",
    "            ]\n",
    "        },\n",
    "        'pagination': {'page_size': 1},\n",
    "    },\n",
    ")\n",
    "response_json = response.json()\n",
    "\n",
    "# Extract data\n",
    "ion_data = response_json['data'][0]['archive']['data']\n",
    "print(json.dumps(ion_data, indent=2))"
   ]
  },
  {
   "cell_type": "markdown",
   "metadata": {},
   "source": [
    "#### Validate response against JSON Schema"
   ]
  },
  {
   "cell_type": "code",
   "execution_count": 10,
   "metadata": {},
   "outputs": [
    {
     "name": "stdout",
     "output_type": "stream",
     "text": [
      "ion_data is valid against the https://raw.githubusercontent.com/Jesperkemist/Perovskite_composition/v1.0.0/ion_schema.json schema.\n"
     ]
    }
   ],
   "source": [
    "from jsonschema import ValidationError, validate\n",
    "\n",
    "schema_id = (\n",
    "    'https://raw.githubusercontent.com/Jesperkemist/'\n",
    "    'Perovskite_composition/v1.0.0/ion_schema.json'\n",
    ")\n",
    "\n",
    "# Load the JSON schema from the URL\n",
    "schema_response = requests.get(schema_id)\n",
    "schema = schema_response.json()\n",
    "\n",
    "# Validate ion_data against the schema\n",
    "try:\n",
    "    validate(instance=ion_data, schema=schema)\n",
    "    print(f'ion_data is valid against the {schema_id} schema.')\n",
    "except ValidationError as e:\n",
    "    print('Validation error:', e.message)"
   ]
  },
  {
   "cell_type": "markdown",
   "metadata": {},
   "source": [
    "#### Query all ions in the database"
   ]
  },
  {
   "cell_type": "code",
   "execution_count": 11,
   "metadata": {},
   "outputs": [
    {
     "name": "stdout",
     "output_type": "stream",
     "text": [
      "Retrieved 332 ion entries.\n"
     ]
    }
   ],
   "source": [
    "json_body = {\n",
    "    'owner': 'visible',\n",
    "    'query': {\n",
    "        'results.eln.sections:any': [\n",
    "            'PerovskiteAIon',\n",
    "            'PerovskiteBIon',\n",
    "            'PerovskiteXIon',\n",
    "        ],\n",
    "    },\n",
    "    'pagination': {\n",
    "        'page_size': 10,\n",
    "    },\n",
    "}\n",
    "\n",
    "all_ion_data = {}\n",
    "\n",
    "while len(all_ion_data) < 500:\n",
    "    response = requests.post(f'{base_url}/entries/archive/query', json=json_body)\n",
    "    response_json = response.json()\n",
    "\n",
    "    for entry in response_json['data']:\n",
    "        abbreviation = entry['archive']['data']['abbreviation']\n",
    "        if abbreviation in all_ion_data:\n",
    "            print(f'Duplicate entry found for abbreviation: {abbreviation}')\n",
    "        all_ion_data[abbreviation] = entry['archive']['data']\n",
    "\n",
    "    next_value = response_json['pagination'].get('next_page_after_value')\n",
    "    if not next_value:\n",
    "        break\n",
    "    json_body['pagination']['page_after_value'] = next_value\n",
    "\n",
    "print(f'Retrieved {len(all_ion_data)} ion entries.')"
   ]
  },
  {
   "cell_type": "markdown",
   "metadata": {},
   "source": [
    "### Query for perovskite compositions in the NOMAD database"
   ]
  },
  {
   "cell_type": "markdown",
   "metadata": {},
   "source": [
    "#### Query for a lead perovskite with band gap less than 1.65 eV"
   ]
  },
  {
   "cell_type": "code",
   "execution_count": 12,
   "metadata": {},
   "outputs": [
    {
     "name": "stdout",
     "output_type": "stream",
     "text": [
      "{\n",
      "  \"m_def\": \"perovskite_solar_cell_database.composition.PerovskiteComposition\",\n",
      "  \"short_form\": \"MAPbI\",\n",
      "  \"long_form\": \"MAPbI3\",\n",
      "  \"composition_estimate\": \"Estimated from precursor solutions\",\n",
      "  \"sample_type\": \"Polycrystalline film\",\n",
      "  \"dimensionality\": \"3D\",\n",
      "  \"band_gap\": 1.63,\n",
      "  \"name\": \"MAPI\",\n",
      "  \"datetime\": \"2025-03-31T09:09:48.394259+00:00\",\n",
      "  \"ions_a_site\": [\n",
      "    {\n",
      "      \"m_def\": \"perovskite_solar_cell_database.composition.PerovskiteAIonComponent\",\n",
      "      \"system\": \"../uploads/ztDkTFJETdiMgrnRQSgsEA/archive/ZHsLIxapQ6idJZjA25Zohc8FRZzr#/data\",\n",
      "      \"common_name\": \"Methylammonium\",\n",
      "      \"molecular_formula\": \"CH6N+\",\n",
      "      \"smiles\": \"C[NH3+]\",\n",
      "      \"iupac_name\": \"methylazanium\",\n",
      "      \"cas_number\": \"17000-00-9\",\n",
      "      \"abbreviation\": \"MA\",\n",
      "      \"source_compound_molecular_formula\": \"CH5N\",\n",
      "      \"source_compound_smiles\": \"CN\",\n",
      "      \"source_compound_iupac_name\": \"methanamine\",\n",
      "      \"source_compound_cas_number\": \"74-89-5\",\n",
      "      \"coefficient\": \"1\"\n",
      "    }\n",
      "  ],\n",
      "  \"ions_b_site\": [\n",
      "    {\n",
      "      \"m_def\": \"perovskite_solar_cell_database.composition.PerovskiteBIonComponent\",\n",
      "      \"system\": \"../uploads/ztDkTFJETdiMgrnRQSgsEA/archive/CIsbAqf80HCIft4qH3pjCdKuCOUr#/data\",\n",
      "      \"common_name\": \"Lead\",\n",
      "      \"molecular_formula\": \"Pb2+\",\n",
      "      \"smiles\": \"[Pb+2]\",\n",
      "      \"iupac_name\": \"lead(2+)\",\n",
      "      \"cas_number\": \"14280-50-3\",\n",
      "      \"abbreviation\": \"Pb\",\n",
      "      \"source_compound_molecular_formula\": \"Pb\",\n",
      "      \"source_compound_smiles\": \"[Pb]\",\n",
      "      \"source_compound_iupac_name\": \"Lead\",\n",
      "      \"source_compound_cas_number\": \"7439-92-1\",\n",
      "      \"coefficient\": \"1\"\n",
      "    }\n",
      "  ],\n",
      "  \"ions_x_site\": [\n",
      "    {\n",
      "      \"m_def\": \"perovskite_solar_cell_database.composition.PerovskiteXIonComponent\",\n",
      "      \"system\": \"../uploads/ztDkTFJETdiMgrnRQSgsEA/archive/EtZIjsyxaPFuo4Hod84m-EcffFNe#/data\",\n",
      "      \"common_name\": \"Iodide\",\n",
      "      \"molecular_formula\": \"I-\",\n",
      "      \"smiles\": \"[I-]\",\n",
      "      \"iupac_name\": \"Iodide\",\n",
      "      \"cas_number\": \"20461-54-5\",\n",
      "      \"abbreviation\": \"I\",\n",
      "      \"source_compound_molecular_formula\": \"I2\",\n",
      "      \"source_compound_smiles\": \"II\",\n",
      "      \"source_compound_iupac_name\": \"molecular iodine\",\n",
      "      \"source_compound_cas_number\": \"7553-56-2\",\n",
      "      \"coefficient\": \"3\"\n",
      "    }\n",
      "  ],\n",
      "  \"elemental_composition\": [\n",
      "    {\n",
      "      \"element\": \"Pb\",\n",
      "      \"atomic_fraction\": 0.08333333333333333,\n",
      "      \"mass_fraction\": 0.3342051647117734\n",
      "    },\n",
      "    {\n",
      "      \"element\": \"C\",\n",
      "      \"atomic_fraction\": 0.08333333333333333,\n",
      "      \"mass_fraction\": 0.019372770134187728\n",
      "    },\n",
      "    {\n",
      "      \"element\": \"N\",\n",
      "      \"atomic_fraction\": 0.08333333333333333,\n",
      "      \"mass_fraction\": 0.0225922368753301\n",
      "    },\n",
      "    {\n",
      "      \"element\": \"H\",\n",
      "      \"atomic_fraction\": 0.5,\n",
      "      \"mass_fraction\": 0.009754597115431996\n",
      "    },\n",
      "    {\n",
      "      \"element\": \"I\",\n",
      "      \"atomic_fraction\": 0.25,\n",
      "      \"mass_fraction\": 0.6140752311632768\n",
      "    }\n",
      "  ],\n",
      "  \"components\": [\n",
      "    {\n",
      "      \"m_def\": \"perovskite_solar_cell_database.composition.PerovskiteAIonComponent\",\n",
      "      \"system\": \"../uploads/ztDkTFJETdiMgrnRQSgsEA/archive/ZHsLIxapQ6idJZjA25Zohc8FRZzr#/data\",\n",
      "      \"common_name\": \"Methylammonium\",\n",
      "      \"molecular_formula\": \"CH6N+\",\n",
      "      \"smiles\": \"C[NH3+]\",\n",
      "      \"iupac_name\": \"methylazanium\",\n",
      "      \"cas_number\": \"17000-00-9\",\n",
      "      \"abbreviation\": \"MA\",\n",
      "      \"source_compound_molecular_formula\": \"CH5N\",\n",
      "      \"source_compound_smiles\": \"CN\",\n",
      "      \"source_compound_iupac_name\": \"methanamine\",\n",
      "      \"source_compound_cas_number\": \"74-89-5\",\n",
      "      \"coefficient\": \"1\"\n",
      "    },\n",
      "    {\n",
      "      \"m_def\": \"perovskite_solar_cell_database.composition.PerovskiteBIonComponent\",\n",
      "      \"system\": \"../uploads/ztDkTFJETdiMgrnRQSgsEA/archive/CIsbAqf80HCIft4qH3pjCdKuCOUr#/data\",\n",
      "      \"common_name\": \"Lead\",\n",
      "      \"molecular_formula\": \"Pb2+\",\n",
      "      \"smiles\": \"[Pb+2]\",\n",
      "      \"iupac_name\": \"lead(2+)\",\n",
      "      \"cas_number\": \"14280-50-3\",\n",
      "      \"abbreviation\": \"Pb\",\n",
      "      \"source_compound_molecular_formula\": \"Pb\",\n",
      "      \"source_compound_smiles\": \"[Pb]\",\n",
      "      \"source_compound_iupac_name\": \"Lead\",\n",
      "      \"source_compound_cas_number\": \"7439-92-1\",\n",
      "      \"coefficient\": \"1\"\n",
      "    },\n",
      "    {\n",
      "      \"m_def\": \"perovskite_solar_cell_database.composition.PerovskiteXIonComponent\",\n",
      "      \"system\": \"../uploads/ztDkTFJETdiMgrnRQSgsEA/archive/EtZIjsyxaPFuo4Hod84m-EcffFNe#/data\",\n",
      "      \"common_name\": \"Iodide\",\n",
      "      \"molecular_formula\": \"I-\",\n",
      "      \"smiles\": \"[I-]\",\n",
      "      \"iupac_name\": \"Iodide\",\n",
      "      \"cas_number\": \"20461-54-5\",\n",
      "      \"abbreviation\": \"I\",\n",
      "      \"source_compound_molecular_formula\": \"I2\",\n",
      "      \"source_compound_smiles\": \"II\",\n",
      "      \"source_compound_iupac_name\": \"molecular iodine\",\n",
      "      \"source_compound_cas_number\": \"7553-56-2\",\n",
      "      \"coefficient\": \"3\"\n",
      "    }\n",
      "  ]\n",
      "}\n"
     ]
    }
   ],
   "source": [
    "response = requests.post(\n",
    "    f'{base_url}/entries/archive/query',\n",
    "    json={\n",
    "        'owner': 'visible',\n",
    "        'query': {\n",
    "            'results.eln.sections:any': ['PerovskiteComposition'],\n",
    "            'results.material.elements:all': ['Pb'],\n",
    "            'results.properties.electronic.band_gap.value': {\n",
    "                'lte': 2.6435914460999996e-19\n",
    "            },\n",
    "        },\n",
    "        'pagination': {'page_size': 1},\n",
    "    },\n",
    ")\n",
    "response_json = response.json()\n",
    "composition_data = response_json['data'][0]['archive']['data']\n",
    "print(json.dumps(composition_data, indent=2))"
   ]
  },
  {
   "cell_type": "code",
   "execution_count": null,
   "metadata": {},
   "outputs": [],
   "source": []
  }
 ],
 "metadata": {
  "kernelspec": {
   "display_name": "perovskite_composition",
   "language": "python",
   "name": "python3"
  },
  "language_info": {
   "codemirror_mode": {
    "name": "ipython",
    "version": 3
   },
   "file_extension": ".py",
   "mimetype": "text/x-python",
   "name": "python",
   "nbconvert_exporter": "python",
   "pygments_lexer": "ipython3",
   "version": "3.11.7"
  }
 },
 "nbformat": 4,
 "nbformat_minor": 2
}
